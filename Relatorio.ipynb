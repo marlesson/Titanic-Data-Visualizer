{
 "cells": [
  {
   "cell_type": "markdown",
   "metadata": {},
   "source": [
    "# Programa Nanodegree Fundamentos de Data Science II\n"
   ]
  },
  {
   "cell_type": "markdown",
   "metadata": {},
   "source": [
    "### Marlesson R. O. de Santana"
   ]
  },
  {
   "cell_type": "markdown",
   "metadata": {},
   "source": [
    "Public: https://nbviewer.jupyter.org/github/marlesson/Titanic-Data-Visualizer/blob/master/Data%20Visualization.ipynb"
   ]
  },
  {
   "cell_type": "markdown",
   "metadata": {},
   "source": [
    "## Resumo"
   ]
  },
  {
   "cell_type": "markdown",
   "metadata": {},
   "source": [
    "\n",
    "O naufrágio do RMS Titanic é um dos naufrágios mais famosos da história. Em 15 de abril de 1912, durante sua viagem inaugural, o Titanic afundou depois de colidir com um iceberg, matando 1502 de 2224 passageiros e tripulantes. \n",
    "\n",
    "Uma das razões pelas quais o naufrágio levou a uma grande perda de vidas era que não havia botes salva-vidas suficientes para os passageiros e tripulantes. Embora houvesse algum elemento de sorte envolvido na sobrevivência do naufrágio, alguns grupos de pessoas eram mais propensos a sobreviver do que outros, como mulheres, crianças e a classe alta. Vamos analisar o quanto esses fatores propiciaram para a sobrevivência do passageiro.\n"
   ]
  },
  {
   "cell_type": "markdown",
   "metadata": {},
   "source": [
    "## Design"
   ]
  },
  {
   "cell_type": "markdown",
   "metadata": {},
   "source": [
    "O designer utilizado para representar os dados foram os gráficos de Barra, Histogramas e gráficos de tendência. "
   ]
  },
  {
   "cell_type": "markdown",
   "metadata": {},
   "source": [
    "### Paleta de cores\n",
    "Foi dado uma preferência a **paleta de cores qualitativas** na maioria dos gráficos, por se tratar de comparações entre dois grupos principais (sobreviventes e não sobreviventes) foi dado uma preferência nas cores **vermelha** para indicar os não sobreviventes e a cor **azul** para indicar os sobreviventes. Exemplo:\n",
    "\n",
    "![](img/img1_v3.png)\n",
    "\n",
    "A **paleta de cores sequencial** foi utilizada apenas quando a comparação não é em sentido opostom, utilizando a a mesma cor em tonalidades diferentes para indicar a relevância de alguma informação. Exemplo:\n",
    "\n",
    "![](img/img4_v3.png)\n"
   ]
  },
  {
   "cell_type": "markdown",
   "metadata": {},
   "source": [
    "### Melhorias de Designer\n",
    "\n",
    "Alguns elementos nos gráficos foram melhorando desde a primeira versão. Como exemplo, o gráfico de \"Sobrevivência no naufráfio\" em sua primeira versão não apresentava nem título nem a porcentagem, veja abaixo:"
   ]
  },
  {
   "cell_type": "markdown",
   "metadata": {},
   "source": [
    "![Primeira Versão](img/img1_v1.png)\n"
   ]
  },
  {
   "cell_type": "markdown",
   "metadata": {},
   "source": [
    "Na última versão do gráfico de \"Sobrevivência no naufráfio\" foram adicionaos os elementos para facilitar o entendimento."
   ]
  },
  {
   "cell_type": "markdown",
   "metadata": {},
   "source": [
    "![Última Versão](img/img1_v3.png)\n"
   ]
  },
  {
   "cell_type": "markdown",
   "metadata": {},
   "source": [
    "Ao adicionar a porcentagem como número em cima das barras, facilitou o entendimento de porcentagem que antes era implícipo pelo tamanho da barra. Também foi retirada a legenda do eixo X, visto que já tem informações suficiêntes para compreender o contexto. Com relação ao título do gráfico, essa mudança foi em todos os gráficos, que na versão apresenta sempre o título."
   ]
  },
  {
   "cell_type": "markdown",
   "metadata": {},
   "source": [
    "Um outro exemplo das mesmas modificações, onde é perceptível a melhora no entendimento do gráfico, estão nos gráficos abaixo.\n",
    "\n",
    "Antes:"
   ]
  },
  {
   "cell_type": "markdown",
   "metadata": {},
   "source": [
    "![Primeira Versão](img/img2_v1.png)\n"
   ]
  },
  {
   "cell_type": "markdown",
   "metadata": {},
   "source": [
    "Depois:"
   ]
  },
  {
   "cell_type": "markdown",
   "metadata": {},
   "source": [
    "![Última Versão](img/img2_v3.png)\n"
   ]
  },
  {
   "cell_type": "markdown",
   "metadata": {},
   "source": [
    "Um outro designer interessante é o de histograma, onde é possível analisar diferentes distribuições de dados para chegar a uma conclusão. A imagem abaixo é a versão final do comparativo de distribuição de idades para o grupo de Sobreviventes e Não sobreviventes."
   ]
  },
  {
   "cell_type": "markdown",
   "metadata": {},
   "source": [
    "![Primeira Versão](img/img4_v2.png)"
   ]
  },
  {
   "cell_type": "markdown",
   "metadata": {},
   "source": [
    "As vezes é necessário modificar uma visão ou simplesmente adicionar um outro gráfico para evidenciar uma informação. Na escolha abaixo, a primeira versão conta com apenas o gráfico de barras, deixando implícito a tendência entre as classes."
   ]
  },
  {
   "cell_type": "markdown",
   "metadata": {},
   "source": [
    "![Primeira Versão](img/img3_1_v1.png)"
   ]
  },
  {
   "cell_type": "markdown",
   "metadata": {},
   "source": [
    "Na evolução do gráfico, além das informações de título e porcentagem, foi adicionada também um novo gráfico para evidênciar a tendência da queda na sobrevivência pela classe."
   ]
  },
  {
   "cell_type": "markdown",
   "metadata": {},
   "source": [
    "![Primeira Versão](img/img3_1_v3.png)\n",
    "![Última Versão](img/img3_2_v2.png)"
   ]
  },
  {
   "cell_type": "markdown",
   "metadata": {},
   "source": [
    "Outros exemplos podem ser encontrados na visualização"
   ]
  },
  {
   "cell_type": "markdown",
   "metadata": {},
   "source": [
    "## Feedback"
   ]
  },
  {
   "cell_type": "markdown",
   "metadata": {
    "collapsed": true
   },
   "source": [
    "A visualização está pública em https://nbviewer.jupyter.org/github/marlesson/Titanic-Data-Visualizer/blob/master/Data%20Visualization.ipynb para feedbacks pelo GitHub.\n",
    "\n",
    "\n",
    "### 1. Comentário\n",
    "\n",
    "A partir do comentário abaixo, o gráfico foi aterado para melhoarar o entendimento.\n",
    "![Primeira Versão](feedback/comentario_1.png)\n",
    "\n",
    "\n",
    "#### Original\n",
    "\n",
    "![Original](img/img4_v1.png)\n",
    "\n",
    "#### Alterado\n",
    "\n",
    "![Alterada](img/img4_v3.png)\n"
   ]
  },
  {
   "cell_type": "markdown",
   "metadata": {},
   "source": [
    "## Recursos"
   ]
  },
  {
   "cell_type": "markdown",
   "metadata": {},
   "source": [
    "Os recursos utilizados foram:\n",
    "\n",
    "* **Python**: Linguagem de programação amplamente utilizada para Data Science e Machine Learning\n",
    "    * https://www.python.org/\n",
    "* **Kaggle**: Comunidade mundialmente conhecida que centraliza análises de dados e compeonatos de Data Science e Machine Learning. O dataset utilizado nesse trabalho foi baixado do Kaggle https://www.kaggle.com/c/titanic/data\n",
    "    * http://kaggle.com\n",
    "\n",
    "* **Seaborn** Biblioteca python de visualização de dados\n",
    "    * https://seaborn.pydata.org/\n",
    "\n",
    "* **Matplotlib** Biblioteca python de visualização de dados\n",
    "    * https://matplotlib.org/examples/index.html\n",
    "\n",
    "* **Jupyter** Software open-source com utilização interativa de Python, amplamente utilizada para análise de dados.\n",
    "    * http://jupyter.org/"
   ]
  },
  {
   "cell_type": "code",
   "execution_count": null,
   "metadata": {
    "collapsed": true
   },
   "outputs": [],
   "source": []
  }
 ],
 "metadata": {
  "kernelspec": {
   "display_name": "Python 3",
   "language": "python",
   "name": "python3"
  },
  "language_info": {
   "codemirror_mode": {
    "name": "ipython",
    "version": 3
   },
   "file_extension": ".py",
   "mimetype": "text/x-python",
   "name": "python",
   "nbconvert_exporter": "python",
   "pygments_lexer": "ipython3",
   "version": "3.6.0"
  }
 },
 "nbformat": 4,
 "nbformat_minor": 2
}
