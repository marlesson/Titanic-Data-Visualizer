{
 "cells": [
  {
   "cell_type": "markdown",
   "metadata": {
    "collapsed": true
   },
   "source": [
    "# Análise de Sobreviventes do Titanic"
   ]
  },
  {
   "cell_type": "markdown",
   "metadata": {},
   "source": [
    "\n",
    "O naufrágio do RMS Titanic é um dos naufrágios mais famosos da história. Em 15 de abril de 1912, durante sua viagem inaugural, o Titanic afundou depois de colidir com um iceberg, matando 1502 de 2224 passageiros e tripulantes. \n",
    "\n",
    "Uma das razões pelas quais o naufrágio levou a uma grande perda de vidas era que não havia botes salva-vidas suficientes para os passageiros e tripulantes. Embora houvesse algum elemento de sorte envolvido na sobrevivência do naufrágio, alguns grupos de pessoas eram mais propensos a sobreviver do que outros, como mulheres, crianças e a classe alta. Vamos analisar o quanto esses fatores propiciaram para a sobrevivência do passageiro.\n"
   ]
  },
  {
   "cell_type": "markdown",
   "metadata": {},
   "source": [
    "### Independente de classe, sexo e idade, analisando apenas o total de ocorrências, é possível observar que mais pessoas **não** sobreviveram ao acidente."
   ]
  },
  {
   "cell_type": "markdown",
   "metadata": {},
   "source": [
    "![](visualize/img1.png)"
   ]
  },
  {
   "cell_type": "markdown",
   "metadata": {},
   "source": [
    "É possível observar que a maioria das pessoas **não sobreviveram** ao desastre. De um total de 891 pessoas, cerca de **62%** não sobreviveram."
   ]
  },
  {
   "cell_type": "markdown",
   "metadata": {},
   "source": [
    "## Se agruparmos as ocorrências por sexo, fica evidente que preferência no resgate foram das mulheres"
   ]
  },
  {
   "cell_type": "markdown",
   "metadata": {},
   "source": [
    "![](visualize/img2.png)"
   ]
  },
  {
   "cell_type": "markdown",
   "metadata": {},
   "source": [
    "É evidente que houve preferência no resgate das mulheres, sendo que **71%** das mulheres sobreviveram ao desastre do Titanic (dados oficiais). "
   ]
  },
  {
   "cell_type": "markdown",
   "metadata": {},
   "source": [
    "### Utilizando a distribuição de sobrevivêntes por idade, é possível observar que as crianças tiveram preferência no resgate, e que o maior indice de fatalidade ocorreu entre pessoas de 20 a 30 anos"
   ]
  },
  {
   "cell_type": "markdown",
   "metadata": {},
   "source": [
    "Observando a distribuição das idades de todos os passageiros abaixo, temos que a média de idade dos passageiros é de *30 anos*, sendo que, a maioria dos passageiros tem idade entre 20 a 40 anos"
   ]
  },
  {
   "cell_type": "code",
   "execution_count": 1,
   "metadata": {},
   "outputs": [
    {
     "data": {
      "text/html": [
       "<iframe id=\"igraph\" scrolling=\"no\" style=\"border:none;\" seamless=\"seamless\" src=\"https://plot.ly/~marlesson/35.embed\" height=\"525px\" width=\"100%\"></iframe>"
      ],
      "text/plain": [
       "<plotly.tools.PlotlyDisplay object>"
      ]
     },
     "execution_count": 1,
     "metadata": {},
     "output_type": "execute_result"
    }
   ],
   "source": [
    "import plotly.plotly as py\n",
    "py.iplot(py.get_figure(\"https://plot.ly/~MarlessonSantana/1/\"))"
   ]
  },
  {
   "cell_type": "markdown",
   "metadata": {},
   "source": [
    "Com relação a sobrevivênia por idade, é possível observar **alguns pontos** importantes entre as pessoas que **não** sobreviveram e as que sobreviveram.\n",
    "* Houve um maior indice de sobreviventes para as crianças de até 5 anos de idade\n",
    "* Entre as pessoas entre 15 e 30 anos, o indice de **não sobrevivência** foi maior\n",
    "* A partir de 30 anos a distribuição permanece semelhante."
   ]
  },
  {
   "cell_type": "markdown",
   "metadata": {},
   "source": [
    "![](visualize/img4.png)"
   ]
  },
  {
   "cell_type": "markdown",
   "metadata": {},
   "source": [
    "Embora **não** exista nenhuma regra naval relacionada a preferência no resgate de mulheres e crianças, observamos que para o naufrágio do Titanic houve de fato essa preferência. \n",
    "\n",
    "Embora, segundo [1],  na prática isso de fato não acontece. Um estudo de 2012 levantou dados sobre 16 naufrágios entre 1852 e 2011, envolvendo cerca de 150 mil pessoas (o Titanic foi deliberadamente excluído). Ele apontou que, do total de vítimas, 37,4% dos homens escaparam, mas apenas 26,7% das mulheres e 15,3% das crianças\n",
    "\n",
    "[1] https://mundoestranho.abril.com.br/ambiente/em-naufragios-criancas-e-mulheres-tem-mesmo-prioridade/\n"
   ]
  },
  {
   "cell_type": "markdown",
   "metadata": {},
   "source": [
    "### Um outro fator que poderia ter sido decisivo na sobrevivência é a classe social da pessoa. Será que o valor do Ticket de embarque propiciou a sobrevivência? "
   ]
  },
  {
   "cell_type": "markdown",
   "metadata": {},
   "source": [
    "O tickets de embarque foram vendidos para três classes direferentes, 1º classe, a mais cara e destinada apenas aos ricos e pessoas importantes, 2º classe e a 3º classe."
   ]
  },
  {
   "cell_type": "markdown",
   "metadata": {},
   "source": [
    "![](visualize/img5.png)\n",
    "![](visualize/img6.png)"
   ]
  },
  {
   "cell_type": "markdown",
   "metadata": {},
   "source": [
    "É possível observar que **a classe social influênciou bastante na sobrevivência**. Para a 1º classe, em que o valor do ticket é maior, houveram mais registros de sobrevivênia do que de fatalidades. Por outro lado, na 3º classe, a taxa de **não sobrevivência** é 2 vezes maior que a de sobrevivência.\n",
    "\n",
    "É possível concluir que o valor do Ticket de embarque teve grande influência nas chances de sobrevivência do desastre"
   ]
  },
  {
   "cell_type": "markdown",
   "metadata": {},
   "source": [
    "#### Com relação as chances de sobrevivência, se observarmos o gênero e a classe social é possível concluir que, independênte da classe, ser mulher é um fator decisivo para a sobrevivência"
   ]
  },
  {
   "cell_type": "markdown",
   "metadata": {},
   "source": [
    "![](visualize/img7.png)"
   ]
  },
  {
   "cell_type": "markdown",
   "metadata": {},
   "source": [
    "A **probabilidade de sobrevivência decresce com relação a classe**, tanto para homens quanto para mulheres. Mas, ser mulher ainda garante uma vantagem na sobrevivênia do desastre com o Titanic. **Mesmo uma mulher na 3º classe tem mais chances de sobrevivência que um homem na 1º classe.**"
   ]
  },
  {
   "cell_type": "markdown",
   "metadata": {},
   "source": [
    "### Os três fatores analisados (sexo, classe social e idade) apresentaram correlação com a sobrevivência do indivíduo no desastre, dentre os três, o sexo é o mais predominante, seguido da classe social e por último a idade"
   ]
  },
  {
   "cell_type": "markdown",
   "metadata": {},
   "source": [
    "![](visualize/img8.png)"
   ]
  },
  {
   "cell_type": "markdown",
   "metadata": {},
   "source": [
    "Nesse contexto, ser uma mulher de classe alta e com pouca idade eleva a quase 100% as chances de ter sobrevivido ao naufrágio do Titanic."
   ]
  },
  {
   "cell_type": "markdown",
   "metadata": {},
   "source": [
    "### Conclusão"
   ]
  },
  {
   "cell_type": "markdown",
   "metadata": {},
   "source": [
    "Embora houvesse algum elemento de sorte envolvido na sobrevivência do naufrágio, foi possível analisar que alguns grupos de pessoas eram mais propensos a sobreviver do que outros. **A classe social, gênero e idade foram fatores decisivos para a sobrevivência do indivíduo**.\n",
    "\n",
    "Mulheres e crianças tiveram prioridade no resgate, apresentando maiores taxas de sobrevivência. Com relação a classe social, os Tickets de primeira classe garantiram maior probabilidade na sobrevivência do indivíduo em relação as classes mais pobres.\n"
   ]
  }
 ],
 "metadata": {
  "kernelspec": {
   "display_name": "Python 3",
   "language": "python",
   "name": "python3"
  },
  "language_info": {
   "codemirror_mode": {
    "name": "ipython",
    "version": 3
   },
   "file_extension": ".py",
   "mimetype": "text/x-python",
   "name": "python",
   "nbconvert_exporter": "python",
   "pygments_lexer": "ipython3",
   "version": "3.6.0"
  },
  "widgets": {
   "application/vnd.jupyter.widget-state+json": {
    "state": {},
    "version_major": 1,
    "version_minor": 0
   }
  }
 },
 "nbformat": 4,
 "nbformat_minor": 2
}
